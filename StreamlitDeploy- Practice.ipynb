{
 "cells": [
  {
   "cell_type": "code",
   "execution_count": 47,
   "metadata": {
    "ExecuteTime": {
     "end_time": "2021-11-28T09:09:16.303936Z",
     "start_time": "2021-11-28T09:09:16.166731Z"
    }
   },
   "outputs": [
    {
     "name": "stdout",
     "output_type": "stream",
     "text": [
      "Overwriting C:\\Users\\new\\prev.py\n"
     ]
    }
   ],
   "source": [
    "%%writefile C:\\Users\\new\\prev.py\n",
    "import numpy as np\n",
    "import pickle\n",
    "import pandas as pd\n",
    "import streamlit as st \n",
    "from tensorflow.keras.models import load_model\n",
    "from PIL import Image\n",
    "import time\n",
    "\n",
    "st.set_page_config(page_title=\"App-Streamlit\",page_icon=\"random\",layout=\"wide\",\n",
    "                       menu_items={'Get Help': 'http://www.quickmeme.com/img/54/547621773e22705fcfa0e73bc86c76a05d4c0b33040fcb048375dfe9167d8ffc.jpg',\n",
    "                                   'Report a bug': \"https://w7.pngwing.com/pngs/839/902/png-transparent-ladybird-ladybird-bug-miscellaneous-presentation-insects-thumbnail.png\",\n",
    "                                   'About': \"# This is a Bankruptcy Prevention App. Very Easy to use!\"})\n",
    "@st.cache(allow_output_mutation=True)\n",
    "def loading_model():\n",
    "    model = load_model(r'C:\\Users\\new\\Documents\\PythonFiles\\bankr.h5')\n",
    "    return model\n",
    "with st.spinner('Model is being loaded..'):\n",
    "    model=loading_model()\n",
    "\n",
    "    \n",
    "st.write(\"\"\"\n",
    "         # BANKRUPTCY PREVENTION\n",
    "         \"\"\"\n",
    "         )\n",
    "def predict_bankruptcy(industrial_risk,management_risk,financial_flexibility,credibility,competitiveness,operating_risk):\n",
    "    \n",
    "    \n",
    "   \n",
    "    pred=model.predict([[industrial_risk,management_risk,financial_flexibility,credibility,competitiveness,operating_risk]])\n",
    "    prediction = (pred >=0.9908809) \n",
    "    prediction=1*prediction\n",
    "    print(prediction)\n",
    "    return prediction\n",
    "\n",
    "\n",
    "\n",
    "def main():\n",
    "\n",
    "                                                        \n",
    "    html_temp = \"\"\"\n",
    "    <div style=\"background-color:tomato;padding:10px\">\n",
    "    <h2 style=\"color:white;text-align:center;\">Streamlit Bankruptcy Prevention App </h2>\n",
    "    </div>\n",
    "    \"\"\"\n",
    "    st.markdown(html_temp,unsafe_allow_html=True)\n",
    "    image = Image.open('A:\\prev.png')\n",
    "    st.image(image, caption='')\n",
    "    check=st.checkbox(\"Input Values for Features\",value=False)\n",
    "    if check:\n",
    "        industrial_risk = st.sidebar.number_input(\"Industrial Risk\",min_value=0.0, max_value=1.0, value=0.0, step=0.5,help=\"low = 0.0, medium = 0.50, high = 1.0\")\n",
    "        management_risk = st.sidebar.number_input(\"Management Risk\",min_value=0.0, max_value=1.0, value=0.0, step=0.5,help=\"low = 0.0, medium = 0.50, high = 1.0\")\n",
    "        financial_flexibility = st.sidebar.number_input(\"Financial Flexibility\",min_value=0.0, max_value=1.0, value=0.0, step=0.5,help=\"low = 0.0, medium = 0.50, high = 1.0\")\n",
    "        credibility = st.sidebar.number_input(\"Credibility\",min_value=0.0, max_value=1.0, value=0.0, step=0.5,help=\"low = 0.0, medium = 0.50, high = 1.0\")\n",
    "        competitiveness=st.sidebar.number_input(\"Competitiveness\",min_value=0.0, max_value=1.0, value=0.0, step=0.5,help=\"low = 0.0, medium = 0.50, high = 1.0\")\n",
    "        operating_risk=st.sidebar.number_input(\"Operating Risk\",min_value=0.0, max_value=1.0, value=0.0, step=0.5,help=\"low = 0.0, medium = 0.50, high = 1.0\")\n",
    "        result=\"\"\n",
    "        if st.button(\"Predict\"):\n",
    "            with st.spinner('Wait for it...'):\n",
    "                time.sleep(5)\n",
    "            result=predict_bankruptcy(industrial_risk,management_risk,financial_flexibility,credibility,competitiveness,operating_risk)\n",
    "            \n",
    "\n",
    "        if result==0:\n",
    "            result='BANKRUPTED!!'\n",
    "        elif result==1:\n",
    "            st.balloons()\n",
    "            result= 'NOT BANKRUPTED!!'\n",
    "        else:\n",
    "            result='yet to submit...'\n",
    "        st.success(\"You are {}\".format(result))\n",
    "    else:\n",
    "        st.write(\"Check when ready\")\n",
    "    \n",
    "    \n",
    "    if st.button(\"Team Details\"):\n",
    "        st.text(\"Anand\")\n",
    "        st.text(\"Hari\")\n",
    "        st.text(\"Kasi\")\n",
    "        st.text(\"Nileena\")\n",
    "        st.text(\"Neha\")\n",
    "        st.text(\"Vishal\")\n",
    "\n",
    "if __name__=='__main__':\n",
    "    main()"
   ]
  },
  {
   "cell_type": "code",
   "execution_count": null,
   "metadata": {},
   "outputs": [],
   "source": []
  }
 ],
 "metadata": {
  "kernelspec": {
   "display_name": "Python 3",
   "language": "python",
   "name": "python3"
  },
  "language_info": {
   "codemirror_mode": {
    "name": "ipython",
    "version": 3
   },
   "file_extension": ".py",
   "mimetype": "text/x-python",
   "name": "python",
   "nbconvert_exporter": "python",
   "pygments_lexer": "ipython3",
   "version": "3.8.5"
  },
  "varInspector": {
   "cols": {
    "lenName": 16,
    "lenType": 16,
    "lenVar": 40
   },
   "kernels_config": {
    "python": {
     "delete_cmd_postfix": "",
     "delete_cmd_prefix": "del ",
     "library": "var_list.py",
     "varRefreshCmd": "print(var_dic_list())"
    },
    "r": {
     "delete_cmd_postfix": ") ",
     "delete_cmd_prefix": "rm(",
     "library": "var_list.r",
     "varRefreshCmd": "cat(var_dic_list()) "
    }
   },
   "types_to_exclude": [
    "module",
    "function",
    "builtin_function_or_method",
    "instance",
    "_Feature"
   ],
   "window_display": false
  }
 },
 "nbformat": 4,
 "nbformat_minor": 5
}
